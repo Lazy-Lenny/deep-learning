{
 "cells": [
  {
   "cell_type": "code",
   "execution_count": 35,
   "id": "e78042cf-6cbb-4b35-91be-aad74c37538b",
   "metadata": {},
   "outputs": [],
   "source": [
    "import numpy as np\n",
    "import pandas as pd\n",
    "\n",
    "from sklearn.datasets import make_regression\n",
    "from sklearn.model_selection import train_test_split"
   ]
  },
  {
   "cell_type": "code",
   "execution_count": 6,
   "id": "dad28aa2-28e2-4eaf-bbc8-45c55edbcfd4",
   "metadata": {},
   "outputs": [
    {
     "data": {
      "text/plain": [
       "(4,)"
      ]
     },
     "execution_count": 6,
     "metadata": {},
     "output_type": "execute_result"
    }
   ],
   "source": [
    "a1D = np.array([1, 2, 3, 4])\n",
    "a1D.shape"
   ]
  },
  {
   "cell_type": "code",
   "execution_count": 5,
   "id": "b8dbcf3f-9f93-49ad-972c-44560fe6ac13",
   "metadata": {},
   "outputs": [
    {
     "data": {
      "text/plain": [
       "(2, 2)"
      ]
     },
     "execution_count": 5,
     "metadata": {},
     "output_type": "execute_result"
    }
   ],
   "source": [
    "a2D = np.array([[1, 2], [3, 4]])\n",
    "a2D.shape"
   ]
  },
  {
   "cell_type": "code",
   "execution_count": 7,
   "id": "88c674ee-b6a0-4592-baff-ca638f338ee7",
   "metadata": {},
   "outputs": [
    {
     "data": {
      "text/plain": [
       "(2, 2, 2)"
      ]
     },
     "execution_count": 7,
     "metadata": {},
     "output_type": "execute_result"
    }
   ],
   "source": [
    "a3D = np.array([[[1, 2], [3, 4]], [[5, 6], [7, 8]]])\n",
    "a3D.shape"
   ]
  },
  {
   "cell_type": "markdown",
   "id": "eea493c0-042f-4bd2-ac55-e08b349835ca",
   "metadata": {},
   "source": [
    "# 1. Generate a large tabular dataset with 10 features, 1 regression target, 150 000 rows"
   ]
  },
  {
   "cell_type": "code",
   "execution_count": 19,
   "id": "6d1854fc-710b-4605-8c8d-1ca46d8d673c",
   "metadata": {},
   "outputs": [],
   "source": [
    "X, y = make_regression(n_samples=150000, n_features=10, noise=0.2)"
   ]
  },
  {
   "cell_type": "code",
   "execution_count": 20,
   "id": "b4e74632-21e7-445e-9678-318543388ac4",
   "metadata": {},
   "outputs": [
    {
     "name": "stdout",
     "output_type": "stream",
     "text": [
      "(150000, 10) (150000,)\n"
     ]
    }
   ],
   "source": [
    "print(X.shape, y.shape)"
   ]
  },
  {
   "cell_type": "code",
   "execution_count": 24,
   "id": "b67a3f74-ea08-4634-b285-bcfc60afbd40",
   "metadata": {},
   "outputs": [
    {
     "name": "stdout",
     "output_type": "stream",
     "text": [
      "-896.5455727802472 935.9844818086094\n"
     ]
    }
   ],
   "source": [
    "print(np.min(y), np.max(y))"
   ]
  },
  {
   "cell_type": "code",
   "execution_count": 25,
   "id": "5cd55370-6609-4334-85e8-58420f251b54",
   "metadata": {},
   "outputs": [
    {
     "name": "stdout",
     "output_type": "stream",
     "text": [
      "-5.115738610898981 4.806065762973293\n"
     ]
    }
   ],
   "source": [
    "print(np.min(X), np.max(X))"
   ]
  },
  {
   "cell_type": "code",
   "execution_count": 27,
   "id": "2c1dc546-d27a-4ae4-9400-14518dbd92d8",
   "metadata": {},
   "outputs": [
    {
     "data": {
      "text/plain": [
       "array([1.01464871, 0.82022551, 0.83391563, ..., 1.03507072, 1.27192982,\n",
       "       0.82409952])"
      ]
     },
     "execution_count": 27,
     "metadata": {},
     "output_type": "execute_result"
    }
   ],
   "source": [
    "np.std(X, axis=1)"
   ]
  },
  {
   "cell_type": "code",
   "execution_count": 28,
   "id": "1157a3df-2e19-4c0d-b7a9-4e2e210074d7",
   "metadata": {},
   "outputs": [
    {
     "data": {
      "text/plain": [
       "array([ 0.22766747, -0.40564935, -0.10411321, ..., -0.23611921,\n",
       "       -0.04435514,  0.27589043])"
      ]
     },
     "execution_count": 28,
     "metadata": {},
     "output_type": "execute_result"
    }
   ],
   "source": [
    "np.mean(X, axis=1)"
   ]
  },
  {
   "cell_type": "code",
   "execution_count": 29,
   "id": "d5b27ce0-1299-4a7d-86ff-bef76e9947b0",
   "metadata": {},
   "outputs": [],
   "source": [
    "X_train, X_test, y_train, y_test = train_test_split(X, y, test_size=0.2, random_state=42)"
   ]
  },
  {
   "cell_type": "markdown",
   "id": "05c6f0fc-e51d-4dee-9463-af26e12e3a98",
   "metadata": {},
   "source": [
    "# 2. LR - Baseline"
   ]
  },
  {
   "cell_type": "code",
   "execution_count": 23,
   "id": "3eb4cd4b-58be-4739-9618-994b066c9976",
   "metadata": {},
   "outputs": [],
   "source": [
    "from sklearn.linear_model import LinearRegression"
   ]
  },
  {
   "cell_type": "code",
   "execution_count": 30,
   "id": "da52aae7-4152-4dfd-9ea0-66c0d13b1f87",
   "metadata": {},
   "outputs": [
    {
     "name": "stdout",
     "output_type": "stream",
     "text": [
      "0.9999989653028651 0.9999989562275327\n"
     ]
    }
   ],
   "source": [
    "lr = LinearRegression()\n",
    "lr.fit(lr, y_train)\n",
    "print(lr.score(X_train, y_train), lr.score(X_test, y_test))"
   ]
  },
  {
   "cell_type": "code",
   "execution_count": 57,
   "id": "fa2cf72b-3f7b-4023-8d79-bffb6ece590d",
   "metadata": {},
   "outputs": [
    {
     "data": {
      "text/plain": [
       "0.008881744306018605"
      ]
     },
     "execution_count": 57,
     "metadata": {},
     "output_type": "execute_result"
    }
   ],
   "source": [
    "mean_absolute_percentage_error(y_train, lr.predict(X_train))"
   ]
  },
  {
   "cell_type": "code",
   "execution_count": 58,
   "id": "c5910245-cb2f-4256-823e-53a6d499096e",
   "metadata": {},
   "outputs": [
    {
     "data": {
      "text/plain": [
       "0.005845866627333934"
      ]
     },
     "execution_count": 58,
     "metadata": {},
     "output_type": "execute_result"
    }
   ],
   "source": [
    "mean_absolute_percentage_error(y_test, lr.predict(X_test))"
   ]
  },
  {
   "cell_type": "code",
   "execution_count": 60,
   "id": "b8329e84-72cf-4b59-ad29-3b7fafd4ee11",
   "metadata": {},
   "outputs": [
    {
     "name": "stdout",
     "output_type": "stream",
     "text": [
      "mean_absolute_percentage_error 0.008881744306018605 0.005845866627333934\n",
      "mean_absolute_error 0.15863074922533904 0.15871495257348392\n"
     ]
    }
   ],
   "source": [
    "print('mean_absolute_percentage_error', mean_absolute_percentage_error(y_train, lr.predict(X_train)), mean_absolute_percentage_error(y_test, lr.predict(X_test)))\n",
    "print('mean_absolute_error', mean_absolute_error(y_train, lr.predict(X_train)), mean_absolute_error(y_test, lr.predict(X_test)))"
   ]
  },
  {
   "cell_type": "code",
   "execution_count": 31,
   "id": "52ed74b4-45a2-4e98-8941-9d56539072c3",
   "metadata": {},
   "outputs": [
    {
     "data": {
      "text/plain": [
       "array([58.55620994, 42.5633611 , 50.65246205, 43.02739377, 97.01583262,\n",
       "       98.70269443, 94.08251713, 23.80257608,  1.62927657,  8.06455415])"
      ]
     },
     "execution_count": 31,
     "metadata": {},
     "output_type": "execute_result"
    }
   ],
   "source": [
    "# y = ax1 + bx2 + cx3 + ... +  kx10 + l\n",
    "# a...k  - lr.coef_\n",
    "# l      - lr.intercept_\n",
    "lr.coef_"
   ]
  },
  {
   "cell_type": "code",
   "execution_count": 32,
   "id": "8bbb19d6-278a-4caf-8f56-89433c85aee6",
   "metadata": {},
   "outputs": [
    {
     "data": {
      "text/plain": [
       "4.361120083173908e-05"
      ]
     },
     "execution_count": 32,
     "metadata": {},
     "output_type": "execute_result"
    }
   ],
   "source": [
    "lr.intercept_"
   ]
  },
  {
   "cell_type": "code",
   "execution_count": 33,
   "id": "c0aa015e-903d-4ca6-b921-534d25196527",
   "metadata": {},
   "outputs": [],
   "source": [
    "y_pred = lr.predict(X_test)"
   ]
  },
  {
   "cell_type": "code",
   "execution_count": 37,
   "id": "eff4780c-7dfc-4004-8be5-71e153808c55",
   "metadata": {},
   "outputs": [
    {
     "data": {
      "text/html": [
       "<div>\n",
       "<style scoped>\n",
       "    .dataframe tbody tr th:only-of-type {\n",
       "        vertical-align: middle;\n",
       "    }\n",
       "\n",
       "    .dataframe tbody tr th {\n",
       "        vertical-align: top;\n",
       "    }\n",
       "\n",
       "    .dataframe thead th {\n",
       "        text-align: right;\n",
       "    }\n",
       "</style>\n",
       "<table border=\"1\" class=\"dataframe\">\n",
       "  <thead>\n",
       "    <tr style=\"text-align: right;\">\n",
       "      <th></th>\n",
       "      <th>True Labels</th>\n",
       "      <th>Predicted Labels</th>\n",
       "    </tr>\n",
       "  </thead>\n",
       "  <tbody>\n",
       "    <tr>\n",
       "      <th>0</th>\n",
       "      <td>-108.197832</td>\n",
       "      <td>-108.089287</td>\n",
       "    </tr>\n",
       "    <tr>\n",
       "      <th>1</th>\n",
       "      <td>285.373432</td>\n",
       "      <td>285.349290</td>\n",
       "    </tr>\n",
       "    <tr>\n",
       "      <th>2</th>\n",
       "      <td>-78.163835</td>\n",
       "      <td>-78.010494</td>\n",
       "    </tr>\n",
       "    <tr>\n",
       "      <th>3</th>\n",
       "      <td>-45.264448</td>\n",
       "      <td>-45.312480</td>\n",
       "    </tr>\n",
       "    <tr>\n",
       "      <th>4</th>\n",
       "      <td>98.440974</td>\n",
       "      <td>98.051859</td>\n",
       "    </tr>\n",
       "  </tbody>\n",
       "</table>\n",
       "</div>"
      ],
      "text/plain": [
       "   True Labels  Predicted Labels\n",
       "0  -108.197832       -108.089287\n",
       "1   285.373432        285.349290\n",
       "2   -78.163835        -78.010494\n",
       "3   -45.264448        -45.312480\n",
       "4    98.440974         98.051859"
      ]
     },
     "execution_count": 37,
     "metadata": {},
     "output_type": "execute_result"
    }
   ],
   "source": [
    "df = pd.DataFrame({ 'True Labels': y_test, 'Predicted Labels': y_pred})\n",
    "df.head()"
   ]
  },
  {
   "cell_type": "markdown",
   "id": "11367569-b733-47bd-bf0b-0e171456a4fe",
   "metadata": {},
   "source": [
    "# DNN"
   ]
  },
  {
   "cell_type": "code",
   "execution_count": 48,
   "id": "7f45530e-850f-4729-b2eb-8d371a97303b",
   "metadata": {},
   "outputs": [],
   "source": [
    "import torch\n",
    "from torch import nn\n",
    "from torch.utils.data import TensorDataset, DataLoader\n",
    "from torch.optim import Adam"
   ]
  },
  {
   "cell_type": "code",
   "execution_count": 43,
   "id": "72fba4f4-4748-413e-8a45-6509725e3f2b",
   "metadata": {},
   "outputs": [],
   "source": [
    "class DenseNeuralNetwork(nn.Module):\n",
    "    def __init__(self):\n",
    "        super(DenseNeuralNetwork, self).__init__()\n",
    "        self.linear_relu_stack = nn.Sequential(\n",
    "            nn.Linear(10, 512),\n",
    "            nn.ReLU(),\n",
    "            nn.Linear(512, 512),\n",
    "            nn.ReLU(),\n",
    "            nn.Linear(512, 1),\n",
    "        )\n",
    "\n",
    "    def forward(self, x):\n",
    "        logits = self.linear_relu_stack(x)\n",
    "        return logits"
   ]
  },
  {
   "cell_type": "code",
   "execution_count": 44,
   "id": "30a483aa-e861-4311-b372-305175956824",
   "metadata": {},
   "outputs": [],
   "source": [
    "dnn = DenseNeuralNetwork()"
   ]
  },
  {
   "cell_type": "code",
   "execution_count": 45,
   "id": "b463dfeb-6e7b-430e-a540-cb6dbdddc36d",
   "metadata": {},
   "outputs": [
    {
     "data": {
      "text/plain": [
       "DenseNeuralNetwork(\n",
       "  (linear_relu_stack): Sequential(\n",
       "    (0): Linear(in_features=10, out_features=512, bias=True)\n",
       "    (1): ReLU()\n",
       "    (2): Linear(in_features=512, out_features=512, bias=True)\n",
       "    (3): ReLU()\n",
       "    (4): Linear(in_features=512, out_features=1, bias=True)\n",
       "  )\n",
       ")"
      ]
     },
     "execution_count": 45,
     "metadata": {},
     "output_type": "execute_result"
    }
   ],
   "source": [
    "dnn"
   ]
  },
  {
   "cell_type": "code",
   "execution_count": 52,
   "id": "19e18af2-c366-4065-a5ea-764d6dbb04a5",
   "metadata": {},
   "outputs": [],
   "source": [
    "criterion = nn.MSELoss()\n",
    "optimizer = Adam(dnn.parameters(), lr=0.001)\n",
    "\n",
    "x_train_tensor = torch.Tensor(X_train)\n",
    "y_train_tensor = torch.Tensor(y_train)\n",
    "x_test_tensor = torch.Tensor(X_test)\n",
    "y_test_tensor = torch.Tensor(y_test)\n",
    "\n",
    "train_dataset = TensorDataset(x_train_tensor, y_train_tensor)\n",
    "train_dataloader = DataLoader(train_dataset)\n",
    "\n",
    "test_dataset = TensorDataset(x_test_tensor, y_test_tensor)\n",
    "test_dataloader = DataLoader(test_dataset)"
   ]
  },
  {
   "cell_type": "code",
   "execution_count": 53,
   "id": "1d2b4b0d-ea8b-4b53-a63e-5c4570939f44",
   "metadata": {
    "collapsed": true,
    "jupyter": {
     "outputs_hidden": true
    },
    "tags": []
   },
   "outputs": [
    {
     "name": "stderr",
     "output_type": "stream",
     "text": [
      "/usr/local/lib/python3.9/site-packages/torch/nn/modules/loss.py:528: UserWarning: Using a target size (torch.Size([1])) that is different to the input size (torch.Size([1, 1])). This will likely lead to incorrect results due to broadcasting. Please ensure they have the same size.\n",
      "  return F.mse_loss(input, target, reduction=self.reduction)\n"
     ]
    },
    {
     "name": "stdout",
     "output_type": "stream",
     "text": [
      "[1,  2000] loss: 2759.450\n",
      "[1,  4000] loss: 110.831\n",
      "[1,  6000] loss: 85.168\n",
      "[1,  8000] loss: 74.702\n",
      "[1, 10000] loss: 71.959\n",
      "[1, 12000] loss: 73.161\n",
      "[1, 14000] loss: 44.374\n",
      "[1, 16000] loss: 67.039\n",
      "[1, 18000] loss: 51.819\n",
      "[1, 20000] loss: 40.445\n",
      "[1, 22000] loss: 46.328\n",
      "[1, 24000] loss: 46.958\n",
      "[1, 26000] loss: 36.621\n",
      "[1, 28000] loss: 30.964\n",
      "[1, 30000] loss: 45.107\n",
      "[1, 32000] loss: 26.140\n",
      "[1, 34000] loss: 31.847\n",
      "[1, 36000] loss: 29.129\n",
      "[1, 38000] loss: 29.866\n",
      "[1, 40000] loss: 22.272\n",
      "[1, 42000] loss: 44.152\n",
      "[1, 44000] loss: 12.684\n",
      "[1, 46000] loss: 24.905\n",
      "[1, 48000] loss: 26.481\n",
      "[1, 50000] loss: 22.586\n",
      "[1, 52000] loss: 21.857\n",
      "[1, 54000] loss: 24.740\n",
      "[1, 56000] loss: 25.319\n",
      "[1, 58000] loss: 20.430\n",
      "[1, 60000] loss: 19.049\n",
      "[1, 62000] loss: 23.321\n",
      "[1, 64000] loss: 21.839\n",
      "[1, 66000] loss: 25.485\n",
      "[1, 68000] loss: 18.753\n",
      "[1, 70000] loss: 15.752\n",
      "[1, 72000] loss: 22.787\n",
      "[1, 74000] loss: 32.885\n",
      "[1, 76000] loss: 25.389\n",
      "[1, 78000] loss: 12.424\n",
      "[1, 80000] loss: 18.062\n",
      "[1, 82000] loss: 15.502\n",
      "[1, 84000] loss: 21.713\n",
      "[1, 86000] loss: 40.065\n",
      "[1, 88000] loss: 12.955\n",
      "[1, 90000] loss: 17.438\n",
      "[1, 92000] loss: 17.385\n",
      "[1, 94000] loss: 15.969\n",
      "[1, 96000] loss: 29.395\n",
      "[1, 98000] loss: 4.233\n",
      "[1, 100000] loss: 28.453\n",
      "[1, 102000] loss: 9.950\n",
      "[1, 104000] loss: 10.798\n",
      "[1, 106000] loss: 13.976\n",
      "[1, 108000] loss: 21.056\n",
      "[1, 110000] loss: 11.741\n",
      "[1, 112000] loss: 11.795\n",
      "[1, 114000] loss: 13.836\n",
      "[1, 116000] loss: 20.824\n",
      "[1, 118000] loss: 6.268\n",
      "[1, 120000] loss: 20.129\n",
      "[2,  2000] loss: 11.697\n",
      "[2,  4000] loss: 10.333\n",
      "[2,  6000] loss: 12.547\n",
      "[2,  8000] loss: 13.742\n",
      "[2, 10000] loss: 18.141\n",
      "[2, 12000] loss: 7.273\n",
      "[2, 14000] loss: 15.876\n",
      "[2, 16000] loss: 14.390\n",
      "[2, 18000] loss: 9.291\n",
      "[2, 20000] loss: 14.568\n",
      "[2, 22000] loss: 20.858\n",
      "[2, 24000] loss: 11.346\n",
      "[2, 26000] loss: 9.027\n",
      "[2, 28000] loss: 13.832\n",
      "[2, 30000] loss: 10.045\n",
      "[2, 32000] loss: 9.390\n",
      "[2, 34000] loss: 10.161\n",
      "[2, 36000] loss: 12.569\n",
      "[2, 38000] loss: 21.031\n",
      "[2, 40000] loss: 6.778\n",
      "[2, 42000] loss: 11.198\n",
      "[2, 44000] loss: 5.367\n",
      "[2, 46000] loss: 6.993\n",
      "[2, 48000] loss: 9.409\n",
      "[2, 50000] loss: 11.974\n",
      "[2, 52000] loss: 7.415\n",
      "[2, 54000] loss: 7.686\n",
      "[2, 56000] loss: 8.140\n",
      "[2, 58000] loss: 8.204\n",
      "[2, 60000] loss: 9.877\n",
      "[2, 62000] loss: 7.299\n",
      "[2, 64000] loss: 7.606\n",
      "[2, 66000] loss: 9.866\n",
      "[2, 68000] loss: 7.151\n",
      "[2, 70000] loss: 6.167\n",
      "[2, 72000] loss: 9.245\n",
      "[2, 74000] loss: 9.807\n",
      "[2, 76000] loss: 9.327\n",
      "[2, 78000] loss: 5.125\n",
      "[2, 80000] loss: 8.409\n",
      "[2, 82000] loss: 6.419\n",
      "[2, 84000] loss: 9.119\n",
      "[2, 86000] loss: 17.300\n",
      "[2, 88000] loss: 7.022\n",
      "[2, 90000] loss: 5.734\n",
      "[2, 92000] loss: 8.104\n",
      "[2, 94000] loss: 10.375\n",
      "[2, 96000] loss: 15.047\n",
      "[2, 98000] loss: 3.931\n",
      "[2, 100000] loss: 7.990\n",
      "[2, 102000] loss: 5.939\n",
      "[2, 104000] loss: 6.503\n",
      "[2, 106000] loss: 7.226\n",
      "[2, 108000] loss: 8.399\n",
      "[2, 110000] loss: 5.790\n",
      "[2, 112000] loss: 5.250\n",
      "[2, 114000] loss: 5.901\n",
      "[2, 116000] loss: 5.701\n",
      "[2, 118000] loss: 6.948\n",
      "[2, 120000] loss: 6.099\n",
      "Finished Training\n"
     ]
    }
   ],
   "source": [
    "for epoch in range(2):  # loop over the dataset multiple times\n",
    "\n",
    "    running_loss = 0.0\n",
    "    for i, data in enumerate(train_dataloader, 0):\n",
    "        # get the inputs; data is a list of [inputs, labels]\n",
    "        inputs, labels = data\n",
    "\n",
    "        # zero the parameter gradients\n",
    "        optimizer.zero_grad()\n",
    "\n",
    "        # forward + backward + optimize\n",
    "        outputs = dnn(inputs)\n",
    "        loss = criterion(outputs, labels)\n",
    "        loss.backward()\n",
    "        optimizer.step()\n",
    "\n",
    "        # print statistics\n",
    "        running_loss += loss.item()\n",
    "        if i % 2000 == 1999:    # print every 2000 mini-batches\n",
    "            print(f'[{epoch + 1}, {i + 1:5d}] loss: {running_loss / 2000:.3f}')\n",
    "            running_loss = 0.0\n",
    "\n",
    "print('Finished Training')"
   ]
  },
  {
   "cell_type": "code",
   "execution_count": 59,
   "id": "b25388f9-9677-49df-8819-f665f88c2714",
   "metadata": {},
   "outputs": [
    {
     "name": "stdout",
     "output_type": "stream",
     "text": [
      "DNN train R2 0.9999815059273224\n",
      "DNN test R2 0.9999814976258627\n",
      "DNN train MAPE 0.03912664\n",
      "DNN test MAPE 0.033496123\n",
      "DNN train MAE 0.6591025\n",
      "DNN test MAE 0.65588045\n"
     ]
    }
   ],
   "source": [
    "from sklearn.metrics import r2_score\n",
    "from sklearn.metrics import mean_absolute_percentage_error\n",
    "from sklearn.metrics import mean_absolute_error\n",
    "\n",
    "y_train_pred = dnn(x_train_tensor).detach().numpy()\n",
    "y_test_pred  = dnn(x_test_tensor).detach().numpy()\n",
    "\n",
    "print('DNN train R2', r2_score(y_train_tensor, y_train_pred))\n",
    "print('DNN test R2', r2_score(y_test_tensor, y_test_pred))\n",
    "print('DNN train MAPE', mean_absolute_percentage_error(y_train_tensor, y_train_pred))\n",
    "print('DNN test MAPE', mean_absolute_percentage_error(y_test_tensor, y_test_pred))\n",
    "print('DNN train MAE', mean_absolute_error(y_train_tensor, y_train_pred))\n",
    "print('DNN test MAE', mean_absolute_error(y_test_tensor, y_test_pred))\n",
    "\n",
    "# LR R2 Score: 0.9999989653028651 0.9999989562275327"
   ]
  },
  {
   "cell_type": "code",
   "execution_count": 61,
   "id": "c7f93861-8c02-48b9-82cd-3bd06a91ef6b",
   "metadata": {},
   "outputs": [
    {
     "name": "stdout",
     "output_type": "stream",
     "text": [
      "LR R2 Score 0.9999989653028651 0.9999989562275327\n",
      "LR mean_absolute_percentage_error 0.008881744306018605 0.005845866627333934\n",
      "LR mean_absolute_error 0.15863074922533904 0.15871495257348392\n"
     ]
    }
   ],
   "source": [
    "print('LR R2 Score', r2_score(y_train, lr.predict(X_train)), r2_score(y_test, lr.predict(X_test)))\n",
    "print('LR mean_absolute_percentage_error', mean_absolute_percentage_error(y_train, lr.predict(X_train)), mean_absolute_percentage_error(y_test, lr.predict(X_test)))\n",
    "print('LR mean_absolute_error', mean_absolute_error(y_train, lr.predict(X_train)), mean_absolute_error(y_test, lr.predict(X_test)))"
   ]
  },
  {
   "cell_type": "code",
   "execution_count": null,
   "id": "8008f253-104c-45c5-9786-e5c6565524b1",
   "metadata": {},
   "outputs": [],
   "source": []
  }
 ],
 "metadata": {
  "kernelspec": {
   "display_name": "Python 3 (ipykernel)",
   "language": "python",
   "name": "python3"
  },
  "language_info": {
   "codemirror_mode": {
    "name": "ipython",
    "version": 3
   },
   "file_extension": ".py",
   "mimetype": "text/x-python",
   "name": "python",
   "nbconvert_exporter": "python",
   "pygments_lexer": "ipython3",
   "version": "3.9.7"
  }
 },
 "nbformat": 4,
 "nbformat_minor": 5
}
